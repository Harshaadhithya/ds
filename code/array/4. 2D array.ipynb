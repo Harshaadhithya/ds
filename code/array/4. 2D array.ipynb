{
 "cells": [
  {
   "cell_type": "code",
   "execution_count": 14,
   "id": "18c0a134",
   "metadata": {},
   "outputs": [],
   "source": [
    "import numpy as np"
   ]
  },
  {
   "cell_type": "code",
   "execution_count": 15,
   "id": "a85de869",
   "metadata": {},
   "outputs": [
    {
     "name": "stdout",
     "output_type": "stream",
     "text": [
      "[[ 1  2  3  4]\n",
      " [ 5  6  7  8]\n",
      " [ 9 10 11 12]]\n"
     ]
    }
   ],
   "source": [
    "arr = np.array([[1,2,3,4],[5,6,7,8],[9,10,11,12]])\n",
    "print(arr)"
   ]
  },
  {
   "cell_type": "code",
   "execution_count": 16,
   "id": "a53e7e4b",
   "metadata": {},
   "outputs": [
    {
     "data": {
      "text/plain": [
       "array([[13, 14, 15, 16],\n",
       "       [ 1,  2,  3,  4],\n",
       "       [ 5,  6,  7,  8],\n",
       "       [ 9, 10, 11, 12]])"
      ]
     },
     "execution_count": 16,
     "metadata": {},
     "output_type": "execute_result"
    }
   ],
   "source": [
    "#inserting new col or row to this 2d array\n",
    "#insert(array_name,index,values,axis=0 for row and 1 for col)\n",
    "new_arr = np.insert(arr,0,[[13,14,15,16]],axis=0)\n",
    "new_arr\n",
    "#here we are shiftig all the rows one step down when inserting a new row"
   ]
  },
  {
   "cell_type": "code",
   "execution_count": 17,
   "id": "db2573ce",
   "metadata": {},
   "outputs": [
    {
     "data": {
      "text/plain": [
       "array([[13, 14, 15, 17, 16],\n",
       "       [ 1,  2,  3, 18,  4],\n",
       "       [ 5,  6,  7, 19,  8],\n",
       "       [ 9, 10, 11, 20, 12]])"
      ]
     },
     "execution_count": 17,
     "metadata": {},
     "output_type": "execute_result"
    }
   ],
   "source": [
    "new_arr = np.insert(new_arr,3,[[17,18,19,20]],axis=1)\n",
    "new_arr\n",
    "#here we are shifting all the cols that are right to that index onse step right"
   ]
  },
  {
   "cell_type": "code",
   "execution_count": 19,
   "id": "96ae4eac",
   "metadata": {},
   "outputs": [
    {
     "data": {
      "text/plain": [
       "array([[13, 14, 15, 17, 16],\n",
       "       [ 1,  2,  3, 18,  4],\n",
       "       [ 5,  6,  7, 19,  8],\n",
       "       [ 9, 10, 11, 20, 12],\n",
       "       [21, 22, 23, 24, 25]])"
      ]
     },
     "execution_count": 19,
     "metadata": {},
     "output_type": "execute_result"
    }
   ],
   "source": [
    "#append\n",
    "#it is similar to insert but we don't need to specify the index\n",
    "new_arr = np.append(new_arr,[[21,22,23,24,25]],axis=0)\n",
    "new_arr"
   ]
  },
  {
   "cell_type": "code",
   "execution_count": 23,
   "id": "cce0f11a",
   "metadata": {},
   "outputs": [
    {
     "name": "stdout",
     "output_type": "stream",
     "text": [
      "[[13 14 15 17 16]\n",
      " [ 1  2  3 18  4]\n",
      " [ 5  6  7 19  8]\n",
      " [ 9 10 11 20 12]\n",
      " [21 22 23 24 25]\n",
      " [26 27 28 29 30]]\n",
      "length of rows = len(array)--> 6\n",
      "length of cols = len(array[0])--> 5\n"
     ]
    }
   ],
   "source": [
    "new_arr = np.append(new_arr,[[26,27,28,29,30]],axis=0)\n",
    "print(new_arr)\n",
    "print(\"length of rows = len(array)-->\",len(new_arr))\n",
    "print(\"length of cols = len(array[0])-->\",len(new_arr[0]))"
   ]
  },
  {
   "cell_type": "code",
   "execution_count": 29,
   "id": "a0649106",
   "metadata": {},
   "outputs": [
    {
     "name": "stdout",
     "output_type": "stream",
     "text": [
      "index does not match\n",
      "30\n"
     ]
    }
   ],
   "source": [
    "#accessing 2d array elements\n",
    "def access_2d_array(array,row_index,col_index):\n",
    "    if row_index>len(array)-1 or col_index>len(array[0])-1:\n",
    "        return \"index does not match\"\n",
    "      \n",
    "    return array[row_index][col_index]\n",
    "\n",
    "print(access_2d_array(new_arr,3,5))\n",
    "print(access_2d_array(new_arr,5,4))"
   ]
  },
  {
   "cell_type": "code",
   "execution_count": 32,
   "id": "0b543035",
   "metadata": {},
   "outputs": [
    {
     "name": "stdout",
     "output_type": "stream",
     "text": [
      "[[13 14 15 17 16]\n",
      " [ 1  2  3 18  4]\n",
      " [ 5  6  7 19  8]\n",
      " [ 9 10 11 20 12]\n",
      " [21 22 23 24 25]\n",
      " [26 27 28 29 30]]\n",
      "13\n",
      "14\n",
      "15\n",
      "17\n",
      "16\n",
      "---\n",
      "1\n",
      "2\n",
      "3\n",
      "18\n",
      "4\n",
      "---\n",
      "5\n",
      "6\n",
      "7\n",
      "19\n",
      "8\n",
      "---\n",
      "9\n",
      "10\n",
      "11\n",
      "20\n",
      "12\n",
      "---\n",
      "21\n",
      "22\n",
      "23\n",
      "24\n",
      "25\n",
      "---\n",
      "26\n",
      "27\n",
      "28\n",
      "29\n",
      "30\n",
      "---\n"
     ]
    }
   ],
   "source": [
    "#traversing 2d array\n",
    "print(new_arr)\n",
    "for row_index in range(len(new_arr)):\n",
    "    for col_index in range(len(new_arr[row_index])):\n",
    "        print(new_arr[row_index][col_index])\n",
    "    print(\"---\")\n",
    "        "
   ]
  },
  {
   "cell_type": "code",
   "execution_count": 34,
   "id": "7f122bf4",
   "metadata": {},
   "outputs": [
    {
     "name": "stdout",
     "output_type": "stream",
     "text": [
      "[[13 14 15 17 16]\n",
      " [ 1  2  3 18  4]\n",
      " [ 5  6  7 19  8]\n",
      " [ 9 10 11 20 12]\n",
      " [21 22 23 24 25]\n",
      " [26 27 28 29 30]]\n",
      "[[14 15 17 16]\n",
      " [ 2  3 18  4]\n",
      " [ 6  7 19  8]\n",
      " [10 11 20 12]\n",
      " [22 23 24 25]\n",
      " [27 28 29 30]]\n"
     ]
    }
   ],
   "source": [
    "#removing row or col in 2d array\n",
    "print(new_arr)\n",
    "new_arr = np.delete(new_arr,0,axis=1)\n",
    "print(new_arr)"
   ]
  },
  {
   "cell_type": "code",
   "execution_count": null,
   "id": "498cccde",
   "metadata": {},
   "outputs": [],
   "source": []
  }
 ],
 "metadata": {
  "kernelspec": {
   "display_name": "Python 3",
   "language": "python",
   "name": "python3"
  },
  "language_info": {
   "codemirror_mode": {
    "name": "ipython",
    "version": 3
   },
   "file_extension": ".py",
   "mimetype": "text/x-python",
   "name": "python",
   "nbconvert_exporter": "python",
   "pygments_lexer": "ipython3",
   "version": "3.8.8"
  }
 },
 "nbformat": 4,
 "nbformat_minor": 5
}
