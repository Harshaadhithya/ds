{
 "cells": [
  {
   "cell_type": "code",
   "execution_count": 39,
   "id": "70d67572",
   "metadata": {},
   "outputs": [],
   "source": [
    "from array import array\n"
   ]
  },
  {
   "cell_type": "code",
   "execution_count": 40,
   "id": "1152a762",
   "metadata": {},
   "outputs": [
    {
     "data": {
      "text/plain": [
       "array('i', [0, 1, 2, 3, 4])"
      ]
     },
     "execution_count": 40,
     "metadata": {},
     "output_type": "execute_result"
    }
   ],
   "source": [
    "arr = array('i',[0,1,2,3,4])\n",
    "arr"
   ]
  },
  {
   "cell_type": "code",
   "execution_count": 41,
   "id": "e42e8d0a",
   "metadata": {},
   "outputs": [
    {
     "name": "stdout",
     "output_type": "stream",
     "text": [
      "140634941513072\n",
      "(140634941503760, 5)\n"
     ]
    }
   ],
   "source": [
    "print(id(arr))\n",
    "print(arr.buffer_info())"
   ]
  },
  {
   "cell_type": "code",
   "execution_count": 42,
   "id": "7c6f56e5",
   "metadata": {},
   "outputs": [
    {
     "data": {
      "text/plain": [
       "array('i', [0, 1, 2, 3, 44])"
      ]
     },
     "execution_count": 42,
     "metadata": {},
     "output_type": "execute_result"
    }
   ],
   "source": [
    "arr[4]=44\n",
    "arr"
   ]
  },
  {
   "cell_type": "code",
   "execution_count": 43,
   "id": "1a84c162",
   "metadata": {},
   "outputs": [
    {
     "name": "stdout",
     "output_type": "stream",
     "text": [
      "140634941513072\n",
      "(140634941503760, 5)\n"
     ]
    }
   ],
   "source": [
    "print(id(arr))\n",
    "print(arr.buffer_info())"
   ]
  },
  {
   "cell_type": "code",
   "execution_count": 44,
   "id": "637a1d01",
   "metadata": {},
   "outputs": [
    {
     "data": {
      "text/plain": [
       "array('i', [0, 1, 2, 3, 44, 5])"
      ]
     },
     "execution_count": 44,
     "metadata": {},
     "output_type": "execute_result"
    }
   ],
   "source": [
    "arr.append(5)\n",
    "arr"
   ]
  },
  {
   "cell_type": "code",
   "execution_count": 45,
   "id": "3eff8b29",
   "metadata": {},
   "outputs": [
    {
     "name": "stdout",
     "output_type": "stream",
     "text": [
      "140634941513072\n",
      "(140634942873536, 6)\n"
     ]
    }
   ],
   "source": [
    "print(id(arr))\n",
    "print(arr.buffer_info())\n",
    "#here we can see that after appending a value to an array, the buffer_info() returns different address"
   ]
  },
  {
   "cell_type": "code",
   "execution_count": 46,
   "id": "7ecdb995",
   "metadata": {},
   "outputs": [
    {
     "data": {
      "text/plain": [
       "\"\\nCONCLUSION : so in the above code, we could see that the id of the array remains the same even after increasing the size of the array but the buffer_info address is changed.\\nthis is because that when the new array is created then obviously the address of the new_array\\n(i.e first element of the new array) is different from the old array's address. now the new array is substitued in the\\nplace of old_array. we know that id(arr) returns the reference of the object, \\nhere the object remains the same only the array inside is changed. so the id also remains the same.\\n\""
      ]
     },
     "execution_count": 46,
     "metadata": {},
     "output_type": "execute_result"
    }
   ],
   "source": [
    "\"\"\"\n",
    "array type in Python's standard library has a fixed size when it is created, and you cannot change its size\n",
    "afterwards. If you want to add more elements to an array that has already been created,\n",
    "you will need to create a new array with a larger size, copy the existing elements to the new array,\n",
    "and then add the new elements.\n",
    "\"\"\"\n",
    "\n",
    "\"\"\"from this we came to know that, if we try to increase the size of an existing array, it is not possible. \n",
    "instead python creates an new array and copies the elements of existing array to the new array.\n",
    "then python substitues the new array in the place of that variable.\"\"\"\n",
    "\n",
    "\"\"\"\n",
    "id(array) returns the unique identifier for the object, which is a memory address where the object is stored.\n",
    "This is a Python built-in function that returns the identity of an object, which is guaranteed to be unique\n",
    "and constant for the lifetime of the object.\n",
    "\n",
    "arr.buffer_info() is a method of the array object that returns a tuple containing the memory address of the\n",
    "array's buffer and the number of elements in the array. The memory address returned by buffer_info()\n",
    "is the address of the first element of the array, and it can be used to access the array's buffer directly\n",
    "in C or other low-level code.\n",
    "\"\"\"\n",
    "\n",
    "\"\"\"\n",
    "CONCLUSION : so in the above code, we could see that the id of the array remains the same even after increasing the size of the array but the buffer_info address is changed.\n",
    "this is because that when the new array is created then obviously the address of the new_array\n",
    "(i.e first element of the new array) is different from the old array's address. now the new array is substitued in the\n",
    "place of old_array. we know that id(arr) returns the reference of the object, \n",
    "here the object remains the same only the array inside is changed. so the id also remains the same.\n",
    "\"\"\"\n"
   ]
  }
 ],
 "metadata": {
  "kernelspec": {
   "display_name": "Python 3",
   "language": "python",
   "name": "python3"
  },
  "language_info": {
   "codemirror_mode": {
    "name": "ipython",
    "version": 3
   },
   "file_extension": ".py",
   "mimetype": "text/x-python",
   "name": "python",
   "nbconvert_exporter": "python",
   "pygments_lexer": "ipython3",
   "version": "3.8.8"
  }
 },
 "nbformat": 4,
 "nbformat_minor": 5
}
