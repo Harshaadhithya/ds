{
 "cells": [
  {
   "cell_type": "code",
   "execution_count": 25,
   "id": "8e73393f",
   "metadata": {},
   "outputs": [],
   "source": [
    "from array import array"
   ]
  },
  {
   "cell_type": "code",
   "execution_count": 32,
   "id": "2bfe1c9c",
   "metadata": {},
   "outputs": [
    {
     "data": {
      "text/plain": [
       "array('i', [1, 2, 3, 4, 5, 6, 7])"
      ]
     },
     "execution_count": 32,
     "metadata": {},
     "output_type": "execute_result"
    }
   ],
   "source": [
    "arr = array('i',[1,2,3,4,5,6,7])\n",
    "arr"
   ]
  },
  {
   "cell_type": "code",
   "execution_count": 33,
   "id": "5d0557a1",
   "metadata": {},
   "outputs": [
    {
     "name": "stdout",
     "output_type": "stream",
     "text": [
      "array('i', [1, 2, 3, 33, 4, 5, 6, 7])\n"
     ]
    }
   ],
   "source": [
    "#insert\n",
    "arr.insert(3,33)\n",
    "print(arr)"
   ]
  },
  {
   "cell_type": "code",
   "execution_count": 34,
   "id": "79b5d14f",
   "metadata": {},
   "outputs": [
    {
     "name": "stdout",
     "output_type": "stream",
     "text": [
      "array('i', [1, 2, 3, 33, 4, 5, 6, 7, 88])\n"
     ]
    }
   ],
   "source": [
    "#append\n",
    "arr.append(88)\n",
    "print(arr)"
   ]
  },
  {
   "cell_type": "code",
   "execution_count": 35,
   "id": "80e915ae",
   "metadata": {},
   "outputs": [
    {
     "name": "stdout",
     "output_type": "stream",
     "text": [
      "array('i', [1, 2, 3, 33, 4, 5, 6, 7, 88, 77, 44, 11])\n"
     ]
    }
   ],
   "source": [
    "#extend()\n",
    "#it is similiar to append() but the difference is we can append more than one elements to an array using extend()\n",
    "dummy_arr = array('i',[77,44,11])\n",
    "arr.extend(dummy_arr)\n",
    "print(arr)"
   ]
  },
  {
   "cell_type": "code",
   "execution_count": 36,
   "id": "4ba9431a",
   "metadata": {},
   "outputs": [
    {
     "name": "stdout",
     "output_type": "stream",
     "text": [
      "array('i', [1, 2, 3, 33, 4, 5, 6, 7, 88, 77, 44, 11, 987, 461])\n"
     ]
    }
   ],
   "source": [
    "#fromlist()\n",
    "#The fromlist() function is simply used to append or add a list to the ending of a given array.\n",
    "\n",
    "my_list = [987,461]\n",
    "arr.fromlist(my_list)\n",
    "print(arr)\n"
   ]
  },
  {
   "cell_type": "code",
   "execution_count": 37,
   "id": "d505ea65",
   "metadata": {},
   "outputs": [
    {
     "name": "stdout",
     "output_type": "stream",
     "text": [
      "array('i', [1, 2, 3, 33, 4, 5, 6, 7, 88, 44, 11, 987, 461])\n"
     ]
    }
   ],
   "source": [
    "#remove()\n",
    "\n",
    "arr.remove(77)\n",
    "print(arr)\n",
    "#note: if remove function finds the first occurence of that value in the array then it removes the first element with that value and does not go beyond for checking the same element present in further indexes."
   ]
  },
  {
   "cell_type": "code",
   "execution_count": 38,
   "id": "f0a204b7",
   "metadata": {},
   "outputs": [
    {
     "name": "stdout",
     "output_type": "stream",
     "text": [
      "array('i', [1, 2, 3, 33, 4, 5, 6, 7, 88, 44, 11, 987])\n"
     ]
    }
   ],
   "source": [
    "#pop()\n",
    "#removes last elemet\n",
    "arr.pop()\n",
    "print(arr)"
   ]
  },
  {
   "cell_type": "code",
   "execution_count": 39,
   "id": "ee18ced5",
   "metadata": {},
   "outputs": [
    {
     "name": "stdout",
     "output_type": "stream",
     "text": [
      "3\n"
     ]
    }
   ],
   "source": [
    "#index()\n",
    "print(arr.index(33))"
   ]
  },
  {
   "cell_type": "code",
   "execution_count": 40,
   "id": "b8f52f7f",
   "metadata": {},
   "outputs": [
    {
     "data": {
      "text/plain": [
       "array('i', [987, 11, 44, 88, 7, 6, 5, 4, 33, 3, 2, 1])"
      ]
     },
     "execution_count": 40,
     "metadata": {},
     "output_type": "execute_result"
    }
   ],
   "source": [
    "#reverse()\n",
    "arr.reverse()\n",
    "arr"
   ]
  },
  {
   "cell_type": "code",
   "execution_count": 49,
   "id": "fb1acd1f",
   "metadata": {},
   "outputs": [
    {
     "name": "stdout",
     "output_type": "stream",
     "text": [
      "(140563026507056, 12)\n",
      "140563025969008\n"
     ]
    }
   ],
   "source": [
    "#buffer_info()\n",
    "#buffer_info() returns a tuple, which contains the memory address and the length of the buffer that holds the array’s contents in the form (address, length).\n",
    "print(arr.buffer_info())\n"
   ]
  },
  {
   "cell_type": "code",
   "execution_count": 52,
   "id": "112c981d",
   "metadata": {},
   "outputs": [
    {
     "name": "stdout",
     "output_type": "stream",
     "text": [
      "1\n"
     ]
    }
   ],
   "source": [
    "#count(value)\n",
    "#it returns the occurence of value in an array\n",
    "print(arr.count(2))"
   ]
  },
  {
   "cell_type": "code",
   "execution_count": 57,
   "id": "731ec128",
   "metadata": {},
   "outputs": [
    {
     "name": "stdout",
     "output_type": "stream",
     "text": [
      "<class 'list'>\n",
      "[987, 11, 44, 88, 7, 6, 5, 4, 33, 3, 2, 1]\n",
      "[987, 11, 44, 88, 7, 6, 5, 4, 33, 3, 2, 1]\n"
     ]
    }
   ],
   "source": [
    "#tolist() or list(array)\n",
    "my_list=arr.tolist()\n",
    "print(type(my_list))\n",
    "print(my_list)\n",
    "print(list(arr))"
   ]
  },
  {
   "cell_type": "code",
   "execution_count": null,
   "id": "01713bfc",
   "metadata": {},
   "outputs": [],
   "source": []
  }
 ],
 "metadata": {
  "kernelspec": {
   "display_name": "Python 3",
   "language": "python",
   "name": "python3"
  },
  "language_info": {
   "codemirror_mode": {
    "name": "ipython",
    "version": 3
   },
   "file_extension": ".py",
   "mimetype": "text/x-python",
   "name": "python",
   "nbconvert_exporter": "python",
   "pygments_lexer": "ipython3",
   "version": "3.8.8"
  }
 },
 "nbformat": 4,
 "nbformat_minor": 5
}
