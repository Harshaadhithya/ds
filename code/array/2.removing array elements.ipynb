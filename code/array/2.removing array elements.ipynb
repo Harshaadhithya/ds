{
 "cells": [
  {
   "cell_type": "code",
   "execution_count": 1,
   "id": "9d42f300",
   "metadata": {},
   "outputs": [],
   "source": [
    "from array import array"
   ]
  },
  {
   "cell_type": "code",
   "execution_count": 11,
   "id": "e02b3224",
   "metadata": {},
   "outputs": [
    {
     "data": {
      "text/plain": [
       "array('i', [1, 2, 3, 4, 5])"
      ]
     },
     "execution_count": 11,
     "metadata": {},
     "output_type": "execute_result"
    }
   ],
   "source": [
    "arr = array('i',[1,2,3,4,5])\n",
    "arr"
   ]
  },
  {
   "cell_type": "code",
   "execution_count": 12,
   "id": "e13e3c22",
   "metadata": {},
   "outputs": [
    {
     "name": "stdout",
     "output_type": "stream",
     "text": [
      "array after removig elemnt with value 2--> array('i', [1, 3, 4, 5])\n"
     ]
    }
   ],
   "source": [
    "# now let me remove an elament from this array\n",
    "arr.remove(2)\n",
    "print(\"array after removig elemnt with value 2-->\",arr)\n",
    "# here we can see that after removing it does not leave an empty space. it just shifts all the elements that are right to that index to one step left.\n",
    "# if it leaves an empty space at that removed element's index, it violates the characterisitic of array (i.e contigous memory allocation)"
   ]
  },
  {
   "cell_type": "code",
   "execution_count": 13,
   "id": "fec4db19",
   "metadata": {},
   "outputs": [
    {
     "name": "stdout",
     "output_type": "stream",
     "text": [
      "array('i', [1, 3, 4, 5])\n",
      "array after removig first elemnt--> array('i', [3, 4, 5])\n"
     ]
    }
   ],
   "source": [
    "#let me remove the first element\n",
    "print(arr)\n",
    "arr.remove(1)\n",
    "print(\"array after removig first elemnt-->\",arr)\n",
    "#here the time complexity is 0(n) because it shifts all the element of the array to one step left"
   ]
  },
  {
   "cell_type": "code",
   "execution_count": 14,
   "id": "cd8ebf5d",
   "metadata": {},
   "outputs": [
    {
     "name": "stdout",
     "output_type": "stream",
     "text": [
      "array('i', [3, 4, 5])\n",
      "array after removig last element--> array('i', [3, 4])\n"
     ]
    }
   ],
   "source": [
    "#let me remove the last element\n",
    "print(arr)\n",
    "arr.remove(5)\n",
    "print(\"array after removig last element-->\",arr)\n",
    "#here the time complexity is 0(1) because it just removes the last element and no shifting takes place"
   ]
  },
  {
   "cell_type": "code",
   "execution_count": null,
   "id": "e5130036",
   "metadata": {},
   "outputs": [],
   "source": []
  }
 ],
 "metadata": {
  "kernelspec": {
   "display_name": "Python 3",
   "language": "python",
   "name": "python3"
  },
  "language_info": {
   "codemirror_mode": {
    "name": "ipython",
    "version": 3
   },
   "file_extension": ".py",
   "mimetype": "text/x-python",
   "name": "python",
   "nbconvert_exporter": "python",
   "pygments_lexer": "ipython3",
   "version": "3.8.8"
  }
 },
 "nbformat": 4,
 "nbformat_minor": 5
}
